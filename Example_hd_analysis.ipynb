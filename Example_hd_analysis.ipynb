{
 "cells": [
  {
   "cell_type": "code",
   "execution_count": 1,
   "id": "da821c14",
   "metadata": {},
   "outputs": [],
   "source": [
    "import hd_features as hd\n",
    "import hd_analysis as hda\n",
    "import pandas as pd\n",
    "from bokeh.models import Panel, Tabs\n",
    "from bokeh.plotting import show,save,output_file"
   ]
  },
  {
   "cell_type": "code",
   "execution_count": 2,
   "id": "0401bda0",
   "metadata": {},
   "outputs": [
    {
     "data": {
      "application/vnd.jupyter.widget-view+json": {
       "model_id": "1f124b2de70b47478357c77514079942",
       "version_major": 2,
       "version_minor": 0
      },
      "text/plain": [
       "  0%|          | 0/112129 [00:00<?, ?it/s]"
      ]
     },
     "metadata": {},
     "output_type": "display_data"
    }
   ],
   "source": [
    "##multiple timestamp calulation for given time range ###################################\n",
    "start_date = 1781-30,1,1,1,1\n",
    "end_date = 2027+30, 12, 31,23,1\n",
    "percentage = 1 # 1-> 100%,\n",
    "time_unit = \"days\" #precision of timestamps. Years,days,months,hours are supported for analyis\n",
    "intervall = 1 #every X unit\n",
    "num_cpu = 6\n",
    "\n",
    "result,timestamp_list = hd.calc_mult_hd_features(start_date,end_date,percentage,time_unit,intervall,num_cpu)\n",
    "result_lists = hd.unpack_mult_features(result,full=True) #lists are structured as dict\n",
    "Map_fct = pd.Series([1]*len(timestamp_list))#use this if no mapping function shall apply \n"
   ]
  },
  {
   "cell_type": "code",
   "execution_count": 3,
   "id": "64ef30de",
   "metadata": {},
   "outputs": [],
   "source": [
    "###multiple timestamp calulation for known birth rates#########################\n",
    "\n",
    "##for comparison with unknown (constant) birth rate distribution use distribution=False\n",
    "#Map_fct,timestamp_list = hda.get_map_fct(\"birth_count_from_1969_2014.csv\",distribution=True)\n",
    "#result_lists = hda.calc_mult_hd_features_birth_dist(timestamp_list,num_cpu=6)\n",
    "##################################################################"
   ]
  },
  {
   "cell_type": "code",
   "execution_count": 4,
   "id": "29d7f926",
   "metadata": {},
   "outputs": [
    {
     "name": "stdout",
     "output_type": "stream",
     "text": [
      "ohe_encoding\n"
     ]
    },
    {
     "name": "stderr",
     "output_type": "stream",
     "text": [
      "100%|████████████████████████████████████████████████████████████████████████████████████| 8/8 [00:03<00:00,  2.17it/s]\n"
     ]
    },
    {
     "name": "stdout",
     "output_type": "stream",
     "text": [
      "build figures\n"
     ]
    },
    {
     "name": "stderr",
     "output_type": "stream",
     "text": [
      "100%|████████████████████████████████████████████████████████████████████████████████████| 8/8 [00:00<00:00, 19.98it/s]\n"
     ]
    },
    {
     "name": "stdout",
     "output_type": "stream",
     "text": [
      "Wall time: 8.61 s\n"
     ]
    }
   ],
   "source": [
    "%%time\n",
    "order=\"sorted\" # \"sorted\" ->numeric order, \"rave\" -> IGING circle number order\n",
    "norm=False #if normalisation of timeseries is needed set True?\n",
    "pie_fig_size = [400,350] #size of pie charts\n",
    "#if not all features shall be calculated, remove them here\n",
    "ohe_fig_size_dict = {\n",
    "                     \"typ\":[1200,550],\n",
    "                     \"auth\":[1200,550],\n",
    "                     \"profile\":[1200,550],\n",
    "                     \"split\":[1200,550],\n",
    "                     \"active_chakra\":[1200,550],\n",
    "                     \"gate\":[1200,1700],\n",
    "                     \"active_channel\":[1200,1000],\n",
    "                     #\"inc_cross\":[1200,2500],\n",
    "                     \"inc_cross_typ\":[1200,550]\n",
    "                    }\n",
    "hd_feature_list = list(ohe_fig_size_dict.keys())\n",
    "\n",
    "\"\"\"\n",
    "time_intervall -> grouping intervall for figures x-Achses\n",
    "years, months,days,hours, continous, custom XX are supported\n",
    "for custom avail. frequencies see offset aliases pd.grouper function (e.g custom 1W)\n",
    "\"\"\"\n",
    "time_intervall = \"years\" \n",
    "print(\"ohe_encoding\")\n",
    "ohe_data_dict = hda.ohe_hd_features(result_lists,\n",
    "                                    hd_feature_list,\n",
    "                                    timestamp_list,\n",
    "                                    Map_fct,\n",
    "                                    time_intervall,\n",
    "                                    norm=norm,\n",
    "                                    order=order)\n",
    "#display graphs\n",
    "print(\"build figures\")\n",
    "stat_graph = hda.get_hd_stat_graph(result_lists,ohe_data_dict,hd_feature_list,pie_fig_size,Map_fct) #basic statistics\n",
    "tab_dict = hda.get_tabbed_hd_ts(ohe_data_dict,time_intervall,hd_feature_list,ohe_fig_size_dict) #timerseries\n",
    "\n",
    "tab_dict[\"stat_graph_tab\"] = Panel(child = stat_graph, title = \"Basic Statistics\")\n",
    "tab_keys = [\"stat_graph\"] + list(ohe_fig_size_dict.keys())\n",
    "tabs = Tabs(tabs=[tab_dict[\"{}_tab\".format(elem)] \n",
    "                  for elem in tab_keys])\n",
    "show(tabs)"
   ]
  },
  {
   "cell_type": "code",
   "execution_count": 5,
   "id": "568c788c",
   "metadata": {},
   "outputs": [],
   "source": [
    "#output_file(filename=\"hd_analysis_per_day_unknown_dist.html\", title=\"hd_analysis_per_day_unknown_dist\")\n",
    "#save(tabs)"
   ]
  }
 ],
 "metadata": {
  "kernelspec": {
   "display_name": "Python 3 (ipykernel)",
   "language": "python",
   "name": "python3"
  },
  "language_info": {
   "codemirror_mode": {
    "name": "ipython",
    "version": 3
   },
   "file_extension": ".py",
   "mimetype": "text/x-python",
   "name": "python",
   "nbconvert_exporter": "python",
   "pygments_lexer": "ipython3",
   "version": "3.9.13"
  }
 },
 "nbformat": 4,
 "nbformat_minor": 5
}
